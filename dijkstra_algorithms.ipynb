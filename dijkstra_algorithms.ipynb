{
 "cells": [
  {
   "cell_type": "code",
   "execution_count": null,
   "metadata": {},
   "outputs": [
    {
     "ename": "",
     "evalue": "",
     "output_type": "error",
     "traceback": [
      "\u001b[1;31mThe kernel failed to start due to an error with the 'pyzmq' module. Consider re-installing this module.\n",
      "\u001b[1;31mClick <a href='https://aka.ms/kernelFailuresPyzmq'>here</a> for more info."
     ]
    }
   ],
   "source": [
    "import numpy as np\n",
    "import heapq\n",
    "import random\n",
    "import time\n",
    "import matplotlib.pyplot as plt"
   ]
  },
  {
   "cell_type": "code",
   "execution_count": null,
   "metadata": {},
   "outputs": [],
   "source": [
    "def dijkstra(graph, source):\n",
    "\n",
    "    distances = {vertex: float('inf') for vertex in graph} #inititalize distances to all vertices as infinity\n",
    "\n",
    "    distances[source] = 0 #source is distance 0\n",
    "\n",
    "    visited = set() #set for keeping track of vertices\n",
    "    \n",
    "    while len(visited) < len(graph):\n",
    "\n",
    "        min_distance = float('inf')\n",
    "\n",
    "        min_vertex = None\n",
    "\n",
    "        for vertex, distance in distances.items():\n",
    "\n",
    "            if vertex not in visited and distance < min_distance:\n",
    "\n",
    "                min_distance = distance\n",
    "\n",
    "                min_vertex = vertex\n",
    "                \n",
    "        visited.add(min_vertex)  #minimum distance vertex has been visited\n",
    "\n",
    "        for neighbor, weight in graph[min_vertex].items(): #distances updates for adjacent vertices\n",
    "\n",
    "            distance = distances[min_vertex] + weight\n",
    "            \n",
    "            if distance < distances[neighbor]:\n",
    "\n",
    "                distances[neighbor] = distance #update the distance\n",
    "    \n",
    "    return distances"
   ]
  },
  {
   "cell_type": "code",
   "execution_count": null,
   "metadata": {},
   "outputs": [],
   "source": [
    "def dijkstra_heap(graph, source):\n",
    "\n",
    "    #initialize distances to all vertices as infinity\n",
    "\n",
    "    distances = {vertex: float('inf') for vertex in graph}\n",
    "\n",
    "    #source is distance 0\n",
    "\n",
    "    distances[source] = 0\n",
    "    \n",
    "    # heap prioirity queue\n",
    "\n",
    "    priority_queue = [(0, source)]\n",
    "    \n",
    "    while priority_queue:\n",
    "\n",
    "        current_distance, current_vertex = heapq.heappop(priority_queue) #find the vertex with minimum distance\n",
    "\n",
    "        if current_distance > distances[current_vertex]:\n",
    "        \n",
    "            continue\n",
    "        \n",
    "        for neighbor, weight in graph[current_vertex].items(): #distance updates for adjacent vertices\n",
    "\n",
    "            distance = current_distance + weight\n",
    "\n",
    "            if distance < distances[neighbor]:\n",
    "\n",
    "                distances[neighbor] = distance\n",
    "                \n",
    "                heapq.heappush(priority_queue, (distance, neighbor)) #update the distance in priority queue\n",
    "     \n",
    "    return distances"
   ]
  },
  {
   "cell_type": "code",
   "execution_count": null,
   "metadata": {},
   "outputs": [],
   "source": [
    "def generate_graph(vertices, max_weight=10):\n",
    "\n",
    "    graph = {}\n",
    "    \n",
    "    for vertex in vertices:\n",
    "\n",
    "        neighbors = {}\n",
    "\n",
    "        for neighbor_vertex in vertices:\n",
    "\n",
    "            if neighbor_vertex != vertex:\n",
    "\n",
    "                weight = random.randint(1, max_weight)\n",
    "\n",
    "                neighbors[neighbor_vertex] = weight\n",
    "                \n",
    "        graph[vertex] = neighbors\n",
    "    \n",
    "    return graph"
   ]
  },
  {
   "cell_type": "code",
   "execution_count": null,
   "metadata": {},
   "outputs": [],
   "source": [
    "num_vertices = [i for i in range(100, 10000, 500)]\n",
    "\n",
    "len(num_vertices)"
   ]
  },
  {
   "cell_type": "code",
   "execution_count": null,
   "metadata": {},
   "outputs": [],
   "source": [
    "dijkstra_times = np.empty(shape = (len(num_vertices), ))\n",
    "\n",
    "dijkstra_heap_times = np.empty(shape = (len(num_vertices), ))\n",
    "\n",
    "for i, num in enumerate(num_vertices):\n",
    "\n",
    "    loop_vertices = [str(i) for i in range(num)]\n",
    "\n",
    "    source_vertex = str(random.randint(1, num))\n",
    "\n",
    "    graph = generate_graph(vertices = loop_vertices, max_weight = 50)\n",
    "\n",
    "    start_time_reg = time.time()\n",
    "\n",
    "    dijkstra(graph = graph, source = source_vertex)\n",
    "\n",
    "    dijkstra_times[i] = time.time() - start_time_reg\n",
    "\n",
    "    start_time_heap = time.time()\n",
    "\n",
    "    dijkstra_heap(graph = graph, source = source_vertex)\n",
    "\n",
    "    dijkstra_heap_times[i] = time.time() - start_time_heap"
   ]
  },
  {
   "cell_type": "code",
   "execution_count": null,
   "metadata": {},
   "outputs": [],
   "source": [
    "fig, ax = plt.subplots(num = 0)\n",
    "\n",
    "ax.plot(num_vertices, dijkstra_times, color = 'blue', label = 'Using Array')\n",
    "\n",
    "ax.plot(num_vertices, dijkstra_heap_times, color = 'orange', label = 'Using Binary Heap')\n",
    "\n",
    "ax.set_ylabel('Time in Seconds')\n",
    "\n",
    "ax.set_xlabel('Number of Vertices')\n",
    "\n",
    "ax.set_title('Runtimes For Dijkstra on Fully Connected Graphs')\n",
    "\n",
    "ax.legend()"
   ]
  },
  {
   "cell_type": "code",
   "execution_count": null,
   "metadata": {},
   "outputs": [],
   "source": []
  }
 ],
 "metadata": {
  "kernelspec": {
   "display_name": "base",
   "language": "python",
   "name": "python3"
  },
  "language_info": {
   "codemirror_mode": {
    "name": "ipython",
    "version": 3
   },
   "file_extension": ".py",
   "mimetype": "text/x-python",
   "name": "python",
   "nbconvert_exporter": "python",
   "pygments_lexer": "ipython3",
   "version": "3.10.13"
  },
  "orig_nbformat": 4
 },
 "nbformat": 4,
 "nbformat_minor": 2
}
